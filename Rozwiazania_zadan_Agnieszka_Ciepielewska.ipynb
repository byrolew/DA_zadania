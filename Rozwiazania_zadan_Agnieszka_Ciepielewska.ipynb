{
 "cells": [
  {
   "cell_type": "code",
   "execution_count": 42,
   "metadata": {
    "collapsed": false
   },
   "outputs": [],
   "source": [
    "from random import randint\n",
    "\n",
    "def generate_random_data(file_name,\n",
    "                         max_users = 100, \n",
    "                         max_visits = 20, \n",
    "                         max_events = 20,\n",
    "                         max_days = 1,\n",
    "                        ):\n",
    "    '''generates random tab separated data in format: userID, visitID, timestamp'''\n",
    "    \n",
    "    with open(file_name, \"w\") as f:\n",
    "        for uid in range(randint(1, max_users)):\n",
    "            for vid in range(randint(0, max_visits)):\n",
    "                ts = randint(0, max_days*86400)\n",
    "                for eid in range(randint(0, max_events)):\n",
    "                    f.write('\\t'.join(map(str, [uid, vid, ts])) + \"\\n\")\n",
    "                    ts += randint(0, 3600)\n",
    "                    ts = min(ts, max_days*86400)\n",
    "                    "
   ]
  },
  {
   "cell_type": "code",
   "execution_count": 43,
   "metadata": {
    "collapsed": true
   },
   "outputs": [],
   "source": [
    "def reader(file_name, separator, header):\n",
    "    '''reads file line by line'''\n",
    "    \n",
    "    with open(file_name, \"r\") as f:\n",
    "        for line in f:\n",
    "            row = dict(zip(header, line.strip().split(separator)))\n",
    "            yield row"
   ]
  },
  {
   "cell_type": "code",
   "execution_count": 44,
   "metadata": {
    "collapsed": false
   },
   "outputs": [],
   "source": [
    "def count(file_name):\n",
    "    '''counts lines of the document'''\n",
    "    \n",
    "    count = 0\n",
    "    with open(file_name, \"r\") as f:\n",
    "        for line in f:\n",
    "            count += 1\n",
    "    return count"
   ]
  },
  {
   "cell_type": "code",
   "execution_count": 45,
   "metadata": {
    "collapsed": false
   },
   "outputs": [],
   "source": [
    "def count_max(file_name, \n",
    "              col_to_aggr,                   \n",
    "              col_to_cnt,\n",
    "              separator = \"\\t\",\n",
    "              header = [\"userID\", \"visitID\", \"timestamp\"], \n",
    "              ):\n",
    "    '''\n",
    "    counts maximum number of entities (col_to_cnt) grouped within other entity (col_to_aggr)\n",
    "    col_to_aggr - variable, for which we are looking for the maximum number of counts in col_to_cnt \n",
    "    col_to_cnt - variable, which we count toward the maximum\n",
    "    separator - separator in searched data\n",
    "    header - names of variables\n",
    "    '''\n",
    "    \n",
    "    max_counted = 0\n",
    "    last_aggr = None\n",
    "    last_cnt = None\n",
    "    counts = 1\n",
    "    \n",
    "    for row in reader(file_name, separator, header):\n",
    "        if last_aggr == row[col_to_aggr]:\n",
    "            if last_cnt != row[col_to_cnt]:\n",
    "                counts += 1\n",
    "        else:\n",
    "            if counts > max_counted:\n",
    "                max_counted = counts\n",
    "            counts = 1\n",
    "\n",
    "        last_aggr = row[col_to_aggr]\n",
    "        last_cnt = row[col_to_cnt]\n",
    "\n",
    "    if counts > max_counted:\n",
    "        max_counted = counts\n",
    "            \n",
    "    return max_counted"
   ]
  },
  {
   "cell_type": "code",
   "execution_count": 46,
   "metadata": {
    "collapsed": true
   },
   "outputs": [],
   "source": [
    "from datetime import datetime\n",
    "\n",
    "def count_unique_filter_hour(file_name, \n",
    "                             col_name,\n",
    "                             separator = \"\\t\", \n",
    "                             header = [\"userID\", \"visitID\", \"timestamp\"], \n",
    "                             hmin = 16, \n",
    "                             hmax = 22, \n",
    "                            ):\n",
    "    '''counts unique entities (col_name) between hours hmin and hmax'''\n",
    "    \n",
    "    count_unique = 0\n",
    "    last = None\n",
    "    for row in reader(file_name, separator, header):\n",
    "        hour = int(datetime.fromtimestamp(float(row[\"timestamp\"])).strftime('%H'))\n",
    "        if hour >= hmin and hour < hmax and row[col_name] != last:\n",
    "            count_unique += 1\n",
    "        last = row[col_name]\n",
    "    return count_unique"
   ]
  },
  {
   "cell_type": "code",
   "execution_count": 51,
   "metadata": {
    "collapsed": true
   },
   "outputs": [],
   "source": [
    "import os\n",
    "\n",
    "def count_max_overlapping_visits(file_name, \n",
    "                                separator = \"\\t\", \n",
    "                                header = [\"userID\", \"visitID\", \"timestamp\"],\n",
    "                               ):\n",
    "    \n",
    "    '''counts maximum of overlapping visits'''\n",
    "    \n",
    "    #writing temporary file with only first and last pageview labeled as SV and EV\n",
    "    \n",
    "    last_row = None\n",
    "    \n",
    "    with open(\"temp_data.txt\", \"w\") as f:\n",
    "        for row in reader(file_name, separator, header):\n",
    "            if last_row:\n",
    "                if last_row[\"visitID\"] != row[\"visitID\"]:\n",
    "                    f.write(separator.join([last_row[\"timestamp\"], \"EV\"]) + \"\\n\")                \n",
    "                    f.write(separator.join([row[\"timestamp\"], \"SV\"]) + \"\\n\")\n",
    "            else:\n",
    "                f.write(separator.join([row[\"timestamp\"], \"SV\"]) + \"\\n\")                \n",
    "            \n",
    "            last_row = row\n",
    "        \n",
    "        f.write(separator.join([last_row[\"timestamp\"], \"EV\"]) + \"\\n\")\n",
    "    \n",
    "    #sorting temporary file using sort\n",
    "    os.system(\"cat temp_data.txt | sort -k1,1n -k2,2r > temp_data_sorted.txt\")\n",
    "    \n",
    "    #counting SVs ang EVs\n",
    "    current_count = 0\n",
    "    max_count = 0\n",
    "    \n",
    "    for row in reader(\"temp_data_sorted.txt\", separator, header = [\"timestamp\", \"type\"]):\n",
    "        if row[\"type\"] == \"SV\":\n",
    "            current_count += 1\n",
    "        elif row[\"type\"] == \"EV\":\n",
    "            current_count -= 1\n",
    "    \n",
    "        if current_count > max_count:\n",
    "            max_count = current_count\n",
    "    \n",
    "    #deleting temporary files \n",
    "    os.system(\"rm -f temp_data.txt temp_data_sorted.txt\")\n",
    "    \n",
    "    return max_count\n"
   ]
  },
  {
   "cell_type": "code",
   "execution_count": 60,
   "metadata": {
    "collapsed": false
   },
   "outputs": [
    {
     "name": "stdout",
     "output_type": "stream",
     "text": [
      "1. Number of pageviews: 1679\n",
      "2. Maximum number of pageviews in one visit: 20\n",
      "3. Maximum number of visits by one user: 17\n",
      "4. Number of users whose visits started between 16:00 and 22:00: 36\n",
      "5. Maximum number of overlapping visits: 46\n"
     ]
    }
   ],
   "source": [
    "generate_random_data(\"dane.txt\")\n",
    "print \"1. Number of pageviews: \" + str(count(\"dane.txt\"))\n",
    "print \"2. Maximum number of pageviews in one visit: \" + str(count_max(\"dane.txt\", \"visitID\", \"timestamp\"))\n",
    "print \"3. Maximum number of visits by one user: \" + str(count_max(\"dane.txt\", \"userID\", \"visitID\"))\n",
    "print \"4. Number of users whose visits started between 16:00 and 22:00: \" + str(count_unique_filter_hour(\"dane.txt\", \"visitID\"))\n",
    "print \"5. Maximum number of overlapping visits: \" + str(count_max_overlapping_visits(\"dane.txt\"))"
   ]
  }
 ],
 "metadata": {
  "kernelspec": {
   "display_name": "Python 2",
   "language": "python",
   "name": "python2"
  },
  "language_info": {
   "codemirror_mode": {
    "name": "ipython",
    "version": 2
   },
   "file_extension": ".py",
   "mimetype": "text/x-python",
   "name": "python",
   "nbconvert_exporter": "python",
   "pygments_lexer": "ipython2",
   "version": "2.7.12+"
  }
 },
 "nbformat": 4,
 "nbformat_minor": 2
}
